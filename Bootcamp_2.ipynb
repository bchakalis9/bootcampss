{
 "cells": [
  {
   "cell_type": "code",
   "execution_count": 1,
   "metadata": {},
   "outputs": [],
   "source": [
    "import numpy as np"
   ]
  },
  {
   "cell_type": "code",
   "execution_count": 2,
   "metadata": {},
   "outputs": [
    {
     "name": "stdout",
     "output_type": "stream",
     "text": [
      "[0.  0.5 0.  0. ]\n"
     ]
    }
   ],
   "source": [
    "pos = np.zeros(4, dtype = {'names':('x', 'y', 'z'), 'formats':(float, float, float)})\n",
    "pos['x'][1] = 0.5\n",
    "print(pos['x'])"
   ]
  },
  {
   "cell_type": "code",
   "execution_count": 5,
   "metadata": {},
   "outputs": [
    {
     "name": "stdout",
     "output_type": "stream",
     "text": [
      "[('vega',  6., 19., 0) ('betelgeuse', 34.,  4., 1) ('rigel',  5., 65., 0)]\n"
     ]
    }
   ],
   "source": [
    "schema = {'names':('star', 'ra', 'dec', 'flag'), 'formats':('U10', 'f8', 'f8', 'i4')}\n",
    "stars = ['vega', 'betelgeuse', 'rigel']\n",
    "ras = [6, 34, 5]\n",
    "decs = [19, 4, 65]\n",
    "flags = [0,1,0]\n",
    "data = np.zeros(3, dtype = schema)\n",
    "data['star'] = stars\n",
    "data['ra'] = ras\n",
    "data['dec'] = decs\n",
    "data['flag'] = flags\n",
    "print(data)"
   ]
  },
  {
   "cell_type": "code",
   "execution_count": 6,
   "metadata": {},
   "outputs": [],
   "source": [
    "import astropy.table as tab"
   ]
  },
  {
   "cell_type": "code",
   "execution_count": 11,
   "metadata": {},
   "outputs": [
    {
     "name": "stdout",
     "output_type": "stream",
     "text": [
      "idx    star     ra dec flag\n",
      "--- ---------- --- --- ----\n",
      "  1       vega   6  19    0\n",
      "  2 betelgeuse  34   4    1\n",
      "  3      rigel   5  65    0\n"
     ]
    },
    {
     "data": {
      "text/html": [
       "<i>Table length=3</i>\n",
       "<table id=\"table4701676040\" class=\"table-striped table-bordered table-condensed\">\n",
       "<thead><tr><th>idx</th><th>star</th><th>ra</th><th>dec</th><th>flag</th></tr></thead>\n",
       "<thead><tr><th>int64</th><th>str10</th><th>int64</th><th>int64</th><th>int64</th></tr></thead>\n",
       "<tr><td>1</td><td>vega</td><td>6</td><td>19</td><td>0</td></tr>\n",
       "<tr><td>2</td><td>betelgeuse</td><td>34</td><td>4</td><td>1</td></tr>\n",
       "<tr><td>3</td><td>rigel</td><td>5</td><td>65</td><td>0</td></tr>\n",
       "</table>"
      ],
      "text/plain": [
       "<Table length=3>\n",
       " idx     star      ra   dec   flag\n",
       "int64   str10    int64 int64 int64\n",
       "----- ---------- ----- ----- -----\n",
       "    1       vega     6    19     0\n",
       "    2 betelgeuse    34     4     1\n",
       "    3      rigel     5    65     0"
      ]
     },
     "execution_count": 11,
     "metadata": {},
     "output_type": "execute_result"
    }
   ],
   "source": [
    "index = np.arange(1,4)\n",
    "t = tab.Table([index, stars, ras, decs, flags], names = ('idx', 'star', 'ra', 'dec', 'flag'), meta = {'name':'cool table'})\n",
    "print(t)\n",
    "t\n"
   ]
  },
  {
   "cell_type": "code",
   "execution_count": 12,
   "metadata": {},
   "outputs": [
    {
     "name": "stdout",
     "output_type": "stream",
     "text": [
      "['idx', 'star', 'ra', 'dec', 'flag']\n"
     ]
    },
    {
     "data": {
      "text/plain": [
       "['ID', 'star', 'ra', 'dec', 'flag']"
      ]
     },
     "execution_count": 12,
     "metadata": {},
     "output_type": "execute_result"
    }
   ],
   "source": [
    "print(t.colnames)\n",
    "t.rename_column('idx', 'ID')\n",
    "t.colnames"
   ]
  },
  {
   "cell_type": "code",
   "execution_count": 15,
   "metadata": {
    "scrolled": true
   },
   "outputs": [
    {
     "data": {
      "text/html": [
       "<i>Table length=532</i>\n",
       "<table id=\"table4750930160\" class=\"table-striped table-bordered table-condensed\">\n",
       "<thead><tr><th>ID</th><th>SDSS</th><th>OBJID</th><th>SPECOBJID</th><th>PLATEID</th><th>MJD</th><th>FIBERID</th><th>RA</th><th>DEC</th><th>Z_SDSS</th><th>LUMDIST</th><th>INCL</th><th>NUVR</th><th>R50KPC</th><th>LOGMSTAR</th><th>LOGMUST</th><th>CINDX</th><th>WEIGHT</th><th>LOGSFR_MPAJHU</th><th>LOGSFR_SED</th><th>LOGSFR_BEST</th><th>LOGSFR_ERR</th><th>FLAG_IRAS</th><th>LOGLIR_IRAS</th><th>IRCOL_IRAS</th><th>N2HA</th><th>O3HB</th><th>AGNCLASS</th><th>Z_PP04_N2</th><th>Z_PP04_O3N2</th><th>Z_MZR</th><th>FLAG_CO</th><th>XCO</th><th>XCO_A17</th><th>XCO_A17_ERR</th><th>ICO</th><th>ICO_ERR</th><th>ICO_COR</th><th>ICO_COR_ERR</th><th>LCO</th><th>LCO_ERR</th><th>LCO_COR</th><th>LCO_COR_ERR</th><th>RMS_CO</th><th>SN_CO</th><th>WCO</th><th>WCO_FLAG</th><th>Z_CO</th><th>WCO_TFR</th><th>WCO_TFR_ERR</th><th>LOGMH2</th><th>LOGMH2_ERR</th><th>LIM_LOGMH2</th><th>LOGMH2MS</th><th>FLAG_CO21</th><th>ICO21</th><th>ICO21_ERR</th><th>LCO21</th><th>LCO21_ERR</th><th>RMS_CO21</th><th>SN_CO21</th><th>WCO21</th><th>WCO21_FLAG</th><th>Z_CO21</th><th>FLAG_APEX</th><th>ICO_APEX</th><th>LCO_APEX</th><th>RMS_APEX</th><th>SN_APEX</th><th>WCO_APEX</th><th>ZCO_APEX</th></tr></thead>\n",
       "<thead><tr><th>int32</th><th>bytes19</th><th>int64</th><th>int64</th><th>int16</th><th>int32</th><th>int16</th><th>float64</th><th>float64</th><th>float64</th><th>float32</th><th>float32</th><th>float32</th><th>float32</th><th>float32</th><th>float32</th><th>float32</th><th>float32</th><th>float32</th><th>float32</th><th>float32</th><th>float32</th><th>int16</th><th>float32</th><th>float32</th><th>float32</th><th>float32</th><th>int16</th><th>float32</th><th>float32</th><th>float32</th><th>int16</th><th>float32</th><th>float32</th><th>float32</th><th>float32</th><th>float32</th><th>float32</th><th>float32</th><th>float32</th><th>float32</th><th>float32</th><th>float32</th><th>float32</th><th>float32</th><th>float32</th><th>int16</th><th>float32</th><th>float32</th><th>float32</th><th>float32</th><th>float32</th><th>float32</th><th>float32</th><th>int16</th><th>float32</th><th>float32</th><th>float32</th><th>float32</th><th>float32</th><th>float32</th><th>float32</th><th>int16</th><th>float32</th><th>int16</th><th>float32</th><th>float32</th><th>float32</th><th>float32</th><th>float32</th><th>float32</th></tr></thead>\n",
       "<tr><td>11956</td><td>J000820.76+150921.6</td><td>587730774426517654</td><td>211893600290603008</td><td>752</td><td>52251</td><td>350</td><td>2.08654</td><td>15.15601</td><td>0.03951000049710274</td><td>174.32053</td><td>71.929924</td><td>3.04</td><td>2.424531</td><td>10.088</td><td>8.551946</td><td>2.15</td><td>0.72500116</td><td>-0.1361199</td><td>-0.047309548</td><td>-0.3246407</td><td>0.17766005</td><td>0</td><td>0.0</td><td>0.0</td><td>-0.46722433</td><td>-0.44700655</td><td>1</td><td>8.663952</td><td>8.72353</td><td>8.703835</td><td>2</td><td>4.35</td><td>3.6728113</td><td>1.3953986</td><td>0.0</td><td>0.0</td><td>0.0</td><td>0.0</td><td>97759880.0</td><td>0.0</td><td>104884690.0</td><td>0.0</td><td>0.0009518</td><td>0.0</td><td>0.0</td><td>0</td><td>0.0</td><td>0.0</td><td>0.0</td><td>0.0</td><td>0.0</td><td>8.585711</td><td>-1.5022897</td><td>1</td><td>0.587</td><td>0.1563711</td><td>80793976.0</td><td>21522732.0</td><td>0.001411</td><td>5.6829386</td><td>248.44264</td><td>1</td><td>0.03951</td><td>1</td><td>0.472</td><td>329046080.0</td><td>0.001424</td><td>4.6914744</td><td>242.66719</td><td>0.03949652</td></tr>\n",
       "<tr><td>12025</td><td>J001934.54+161215.0</td><td>588290882176155793</td><td>212174997840461824</td><td>753</td><td>52233</td><td>322</td><td>4.89396</td><td>16.20418</td><td>0.036649998277425766</td><td>161.36345</td><td>23.075378</td><td>5.93</td><td>2.8536575</td><td>10.843</td><td>9.1912565</td><td>3.03</td><td>0.42444098</td><td>-1.42773</td><td>-1.1904594</td><td>-0.6816025</td><td>0.38218576</td><td>0</td><td>0.0</td><td>0.0</td><td>0.15814236</td><td>0.43817183</td><td>3</td><td>9.723805</td><td>8.64039</td><td>8.777737</td><td>2</td><td>4.35</td><td>2.858469</td><td>1.0860083</td><td>0.0</td><td>0.0</td><td>0.0</td><td>0.0</td><td>96599730.0</td><td>0.0</td><td>112287190.0</td><td>0.0</td><td>0.001065</td><td>0.0</td><td>0.0</td><td>0</td><td>0.0</td><td>0.0</td><td>0.0</td><td>0.0</td><td>0.0</td><td>8.506464</td><td>-2.3365366</td><td>2</td><td>0.0</td><td>nan</td><td>nan</td><td>nan</td><td>0.001238</td><td>0.0</td><td>0.0</td><td>0</td><td>0.03665</td><td>0</td><td>0.0</td><td>0.0</td><td>0.0</td><td>0.0</td><td>0.0</td><td>0.0</td></tr>\n",
       "<tr><td>12002</td><td>J002504.00+145815.2</td><td>588290880566132751</td><td>212174996984823808</td><td>753</td><td>52233</td><td>118</td><td>6.2667</td><td>14.97091</td><td>0.036720000207424164</td><td>161.67998</td><td>64.93981</td><td>6.25</td><td>1.3200389</td><td>10.482</td><td>9.471928</td><td>3.17</td><td>0.6425136</td><td>-1.46497</td><td>-1.7188811</td><td>-1.8846257</td><td>0.0</td><td>0</td><td>0.0</td><td>0.0</td><td>nan</td><td>0.1420766</td><td>-1</td><td>nan</td><td>nan</td><td>8.764267</td><td>2</td><td>4.35</td><td>3.0060387</td><td>1.142074</td><td>0.0</td><td>0.0</td><td>0.0</td><td>0.0</td><td>107261620.0</td><td>0.0</td><td>111313170.0</td><td>0.0</td><td>0.001178</td><td>0.0</td><td>0.0</td><td>0</td><td>0.0</td><td>0.0</td><td>0.0</td><td>0.0</td><td>0.0</td><td>8.524541</td><td>-1.9574592</td><td>2</td><td>0.0</td><td>nan</td><td>nan</td><td>nan</td><td>0.001459</td><td>0.0</td><td>0.0</td><td>0</td><td>0.03672</td><td>0</td><td>0.0</td><td>0.0</td><td>0.0</td><td>0.0</td><td>0.0</td><td>0.0</td></tr>\n",
       "<tr><td>11989</td><td>J002558.89+135545.8</td><td>587730772817739967</td><td>212174996687028224</td><td>753</td><td>52233</td><td>47</td><td>6.49538</td><td>13.9294</td><td>0.04193999990820885</td><td>185.37039</td><td>24.209797</td><td>5.79</td><td>2.2019703</td><td>10.693</td><td>9.252719</td><td>3.02</td><td>0.5257021</td><td>-1.33837</td><td>-0.85873634</td><td>-1.4376403</td><td>0.7830497</td><td>0</td><td>0.0</td><td>0.0</td><td>0.08745044</td><td>0.34277308</td><td>3</td><td>9.557374</td><td>8.648296</td><td>8.7776985</td><td>2</td><td>4.35</td><td>2.8588707</td><td>1.0861609</td><td>0.0</td><td>0.0</td><td>0.0</td><td>0.0</td><td>110917610.0</td><td>0.0</td><td>120100104.0</td><td>0.0</td><td>0.001066</td><td>0.0</td><td>0.0</td><td>0</td><td>0.0</td><td>0.0</td><td>0.0</td><td>0.0</td><td>0.0</td><td>8.535738</td><td>-2.1572618</td><td>2</td><td>0.0</td><td>nan</td><td>nan</td><td>nan</td><td>0.002145</td><td>0.0</td><td>0.0</td><td>0</td><td>0.04194</td><td>0</td><td>0.0</td><td>0.0</td><td>0.0</td><td>0.0</td><td>0.0</td><td>0.0</td></tr>\n",
       "<tr><td>27167</td><td>J003921.66+142811.5</td><td>587724232100741195</td><td>0</td><td>418</td><td>51884</td><td>150</td><td>9.84028</td><td>14.46986</td><td>0.038019999861717224</td><td>167.56366</td><td>44.72357</td><td>4.48</td><td>1.6209953</td><td>10.372</td><td>9.20843</td><td>2.77</td><td>0.8002016</td><td>-0.9636899</td><td>-0.18055098</td><td>-0.7990457</td><td>0.35271347</td><td>0</td><td>0.0</td><td>0.0</td><td>-0.1307787</td><td>0.38306263</td><td>3</td><td>9.125353</td><td>8.56557</td><td>8.751667</td><td>2</td><td>4.35</td><td>3.1509695</td><td>1.197137</td><td>0.0</td><td>0.0</td><td>0.0</td><td>0.0</td><td>99582220.0</td><td>0.0</td><td>104773270.0</td><td>0.0</td><td>0.001172</td><td>0.0</td><td>0.0</td><td>0</td><td>0.0</td><td>0.0</td><td>0.0</td><td>0.0</td><td>0.0</td><td>8.518695</td><td>-1.8533051</td><td>2</td><td>0.0</td><td>nan</td><td>56751584.0</td><td>inf</td><td>0.002041</td><td>0.0</td><td>245.54123</td><td>1</td><td>0.03802</td><td>0</td><td>0.0</td><td>0.0</td><td>0.0</td><td>0.0</td><td>0.0</td><td>0.0</td></tr>\n",
       "<tr><td>3189</td><td>J004023.48+143649.4</td><td>587724198275645522</td><td>118160835141959680</td><td>419</td><td>51879</td><td>308</td><td>10.09787</td><td>14.61375</td><td>0.03840000182390213</td><td>169.28555</td><td>61.890377</td><td>2.77</td><td>4.5364037</td><td>10.046</td><td>7.990065</td><td>1.96</td><td>0.72500116</td><td>-0.4152899</td><td>0.53980285</td><td>0.3740583</td><td>0.0</td><td>0</td><td>0.0</td><td>0.0</td><td>-0.47638032</td><td>nan</td><td>0</td><td>8.654295</td><td>nan</td><td>8.695103</td><td>1</td><td>4.35</td><td>4.5325828</td><td>1.7220486</td><td>0.531</td><td>0.09825245</td><td>0.6518685</td><td>0.15527223</td><td>219285940.0</td><td>49810980.0</td><td>269200740.0</td><td>64122440.0</td><td>0.001235</td><td>5.9935975</td><td>238.5777</td><td>2</td><td>0.03833014</td><td>0.0</td><td>0.0</td><td>9.086422</td><td>0.183528</td><td>0.0</td><td>-0.95957756</td><td>1</td><td>0.512</td><td>0.18926057</td><td>66530010.0</td><td>24592786.0</td><td>0.002397</td><td>3.2167685</td><td>204.41563</td><td>1</td><td>0.0384</td><td>2</td><td>0.0</td><td>0.0</td><td>0.002061</td><td>0.0</td><td>0.0</td><td>0.0</td></tr>\n",
       "<tr><td>3261</td><td>J005532.61+154632.9</td><td>587724199887831062</td><td>118442276870422528</td><td>420</td><td>51871</td><td>573</td><td>13.88588</td><td>15.77582</td><td>0.037470001727342606</td><td>165.0731</td><td>35.320576</td><td>2.63</td><td>2.2529042</td><td>10.078</td><td>8.630583</td><td>2.54</td><td>0.72500116</td><td>0.21952009</td><td>0.34004614</td><td>0.17430162</td><td>0.0</td><td>0</td><td>0.0</td><td>0.0</td><td>-0.46703643</td><td>-0.4732566</td><td>1</td><td>8.664152</td><td>8.73199</td><td>8.70179</td><td>1</td><td>4.35</td><td>3.8263276</td><td>1.4537234</td><td>0.711</td><td>0.10057363</td><td>0.77847725</td><td>0.1605045</td><td>279439460.0</td><td>43279132.0</td><td>305959580.0</td><td>63081988.0</td><td>0.001957</td><td>8.572041</td><td>83.279655</td><td>2</td><td>0.037457053</td><td>0.0</td><td>0.0</td><td>9.068446</td><td>0.17606522</td><td>0.0</td><td>-1.0095539</td><td>1</td><td>1.26</td><td>0.27440676</td><td>155818880.0</td><td>33934724.0</td><td>0.002363</td><td>11.601668</td><td>97.93154</td><td>1</td><td>0.03747</td><td>1</td><td>0.343</td><td>214841180.0</td><td>0.001698</td><td>6.002492</td><td>55.05736</td><td>0.037466083</td></tr>\n",
       "<tr><td>3318</td><td>J010238.29+151006.6</td><td>587724233176907902</td><td>118723536838721536</td><td>421</td><td>51821</td><td>511</td><td>15.65954</td><td>15.16852</td><td>0.03968000039458275</td><td>175.09235</td><td>37.755573</td><td>5.73</td><td>2.2931132</td><td>10.533</td><td>9.044236</td><td>3.05</td><td>0.5326301</td><td>-1.1736599</td><td>-0.96773136</td><td>-1.1334758</td><td>0.0</td><td>0</td><td>0.0</td><td>0.0</td><td>nan</td><td>nan</td><td>0</td><td>nan</td><td>nan</td><td>8.768864</td><td>2</td><td>4.35</td><td>2.95484</td><td>1.1226221</td><td>0.0</td><td>0.0</td><td>0.0</td><td>0.0</td><td>109465120.0</td><td>0.0</td><td>119038210.0</td><td>0.0</td><td>0.001028</td><td>0.0</td><td>0.0</td><td>0</td><td>0.0</td><td>0.0</td><td>0.0</td><td>0.0</td><td>0.0</td><td>8.546221</td><td>-1.9867797</td><td>2</td><td>0.0</td><td>nan</td><td>nan</td><td>nan</td><td>0.00189</td><td>0.0</td><td>0.0</td><td>0</td><td>0.03968</td><td>0</td><td>0.0</td><td>0.0</td><td>0.0</td><td>0.0</td><td>0.0</td><td>0.0</td></tr>\n",
       "<tr><td>3439</td><td>J010905.96+144520.8</td><td>587724198815531168</td><td>119004968815427584</td><td>422</td><td>51811</td><td>499</td><td>17.27486</td><td>14.75578</td><td>0.0385500006377697</td><td>169.9655</td><td>37.773346</td><td>3.05</td><td>2.7197616</td><td>10.35</td><td>8.843076</td><td>2.9</td><td>0.8002016</td><td>-0.9099499</td><td>0.040283833</td><td>-0.2844023</td><td>0.13324907</td><td>0</td><td>0.0</td><td>0.0</td><td>-0.093673244</td><td>0.26612923</td><td>3</td><td>9.190636</td><td>8.614862</td><td>8.748726</td><td>2</td><td>4.35</td><td>3.2762768</td><td>1.2447445</td><td>0.0</td><td>0.0</td><td>0.0</td><td>0.0</td><td>86708620.0</td><td>0.0</td><td>97311370.0</td><td>0.0</td><td>0.0008872</td><td>0.0</td><td>0.0</td><td>0</td><td>0.0</td><td>0.0</td><td>0.0</td><td>0.0</td><td>0.0</td><td>8.503544</td><td>-1.8464562</td><td>2</td><td>0.0</td><td>nan</td><td>23553894.0</td><td>inf</td><td>0.001436</td><td>0.0</td><td>0.0</td><td>0</td><td>0.03855</td><td>0</td><td>0.0</td><td>0.0</td><td>0.0</td><td>0.0</td><td>0.0</td><td>0.0</td></tr>\n",
       "<tr><td>3465</td><td>J011221.82+150039.0</td><td>587724233177956541</td><td>119004969205497856</td><td>422</td><td>51811</td><td>592</td><td>18.09092</td><td>15.01085</td><td>0.029200000688433647</td><td>127.857155</td><td>55.225365</td><td>3.63</td><td>1.7965477</td><td>10.188</td><td>8.976554</td><td>2.89</td><td>0.6814768</td><td>-0.8938399</td><td>-0.33270675</td><td>-0.6666706</td><td>0.22961712</td><td>0</td><td>0.0</td><td>0.0</td><td>-0.07193952</td><td>0.24631815</td><td>3</td><td>9.230365</td><td>8.628157</td><td>8.723003</td><td>1</td><td>4.35</td><td>3.507239</td><td>1.3324933</td><td>0.482</td><td>0.12132137</td><td>0.52080554</td><td>0.15260132</td><td>114561416.0</td><td>31157114.0</td><td>123784690.0</td><td>36270172.0</td><td>0.001173</td><td>4.190195</td><td>445.84045</td><td>2</td><td>0.028976131</td><td>0.0</td><td>0.0</td><td>8.637632</td><td>0.19792545</td><td>0.0</td><td>-1.5503675</td><td>2</td><td>0.0</td><td>nan</td><td>37821144.0</td><td>inf</td><td>0.001719</td><td>0.0</td><td>0.0</td><td>0</td><td>0.0292</td><td>0</td><td>0.0</td><td>0.0</td><td>0.0</td><td>0.0</td><td>0.0</td><td>0.0</td></tr>\n",
       "<tr><td>...</td><td>...</td><td>...</td><td>...</td><td>...</td><td>...</td><td>...</td><td>...</td><td>...</td><td>...</td><td>...</td><td>...</td><td>...</td><td>...</td><td>...</td><td>...</td><td>...</td><td>...</td><td>...</td><td>...</td><td>...</td><td>...</td><td>...</td><td>...</td><td>...</td><td>...</td><td>...</td><td>...</td><td>...</td><td>...</td><td>...</td><td>...</td><td>...</td><td>...</td><td>...</td><td>...</td><td>...</td><td>...</td><td>...</td><td>...</td><td>...</td><td>...</td><td>...</td><td>...</td><td>...</td><td>...</td><td>...</td><td>...</td><td>...</td><td>...</td><td>...</td><td>...</td><td>...</td><td>...</td><td>...</td><td>...</td><td>...</td><td>...</td><td>...</td><td>...</td><td>...</td><td>...</td><td>...</td><td>...</td><td>...</td><td>...</td><td>...</td><td>...</td><td>...</td><td>...</td><td>...</td></tr>\n",
       "<tr><td>122006</td><td>J225258.56+010833.8</td><td>587731187807158563</td><td>106901450117873664</td><td>379</td><td>51789</td><td>449</td><td>343.2439880371094</td><td>1.1425925493240356</td><td>0.016449466347694397</td><td>71.341835</td><td>34.035255</td><td>2.5900953</td><td>2.7588415</td><td>9.500008</td><td>7.962768</td><td>2.1219823</td><td>2.0439148</td><td>-0.8032699</td><td>-0.13209419</td><td>-0.3966215</td><td>0.1140106</td><td>0</td><td>0.0</td><td>0.0</td><td>-0.59711564</td><td>-0.1873782</td><td>1</td><td>8.538977</td><td>8.598884</td><td>8.552769</td><td>1</td><td>7.5756235</td><td>6.16551</td><td>2.342441</td><td>0.466</td><td>0.06722232</td><td>0.7236688</td><td>0.1506017</td><td>34916424.0</td><td>7821882.0</td><td>54223016.0</td><td>11284276.0</td><td>0.001133</td><td>8.330676</td><td>113.005974</td><td>1</td><td>0.016503453</td><td>102.75908</td><td>29.330208</td><td>8.524153</td><td>0.17649321</td><td>0.0</td><td>-0.97585493</td><td>1</td><td>0.597</td><td>0.13362204</td><td>14075574.0</td><td>3150430.2</td><td>0.001054</td><td>9.95209</td><td>150.17188</td><td>1</td><td>0.016522288</td><td>0</td><td>0.0</td><td>0.0</td><td>0.0</td><td>0.0</td><td>0.0</td><td>0.0</td></tr>\n",
       "<tr><td>114141</td><td>J140043.62+315338.0</td><td>587739380447641741</td><td>597241127703150592</td><td>2121</td><td>54180</td><td>184</td><td>210.181884765625</td><td>31.89417266845703</td><td>0.014635462313890457</td><td>63.38729</td><td>57.786186</td><td>1.7332355</td><td>2.7811282</td><td>9.451613</td><td>7.86854</td><td>2.1117628</td><td>2.1970787</td><td>0.0994301</td><td>0.03846726</td><td>-0.045663487</td><td>0.06531638</td><td>1</td><td>9.61239</td><td>0.36655593</td><td>-0.5653652</td><td>-0.29314008</td><td>1</td><td>8.567224</td><td>8.642887</td><td>8.538235</td><td>1</td><td>6.660917</td><td>5.5277367</td><td>2.1001341</td><td>0.486</td><td>0.10735603</td><td>0.735739</td><td>0.19645137</td><td>28798618.0</td><td>9630509.0</td><td>43597252.0</td><td>11641002.0</td><td>0.002039</td><td>4.8566837</td><td>111.66277</td><td>1</td><td>0.014650703</td><td>0.0</td><td>0.0</td><td>8.382007</td><td>0.19086231</td><td>0.0</td><td>-1.069607</td><td>1</td><td>0.746</td><td>0.17195891</td><td>13909841.0</td><td>3206328.5</td><td>0.001651</td><td>8.725758</td><td>124.315994</td><td>1</td><td>0.014720201</td><td>0</td><td>0.0</td><td>0.0</td><td>0.0</td><td>0.0</td><td>0.0</td><td>0.0</td></tr>\n",
       "<tr><td>108147</td><td>J081523.41+284407.2</td><td>588297865247588554</td><td>339685039522447360</td><td>1206</td><td>52670</td><td>401</td><td>123.84751892089844</td><td>28.735349655151367</td><td>0.019736703485250473</td><td>85.81127</td><td>36.873356</td><td>2.323109</td><td>3.7923455</td><td>9.636974</td><td>7.765246</td><td>1.8168592</td><td>1.3682129</td><td>-0.2355199</td><td>0.07281617</td><td>-0.21017887</td><td>0.09509903</td><td>1</td><td>9.69825</td><td>0.339404</td><td>-0.54440737</td><td>-0.37160423</td><td>1</td><td>8.5866585</td><td>8.674703</td><td>8.59259</td><td>1</td><td>6.069149</td><td>4.702122</td><td>1.7864611</td><td>0.514</td><td>0.08386033</td><td>0.8657019</td><td>0.19186327</td><td>55539864.0</td><td>15261723.0</td><td>93542744.0</td><td>20731636.0</td><td>0.001461</td><td>7.03272</td><td>116.018974</td><td>1</td><td>0.019805789</td><td>0.0</td><td>0.0</td><td>8.643304</td><td>0.17957062</td><td>0.0</td><td>-0.99367034</td><td>2</td><td>0.0</td><td>nan</td><td>8912083.0</td><td>inf</td><td>0.001886</td><td>0.0</td><td>99.495445</td><td>0</td><td>0.0</td><td>0</td><td>0.0</td><td>0.0</td><td>0.0</td><td>0.0</td><td>0.0</td><td>0.0</td></tr>\n",
       "<tr><td>124028</td><td>J000602.41+142502.8</td><td>587727221414166687</td><td>211612124835741696</td><td>751</td><td>52251</td><td>236</td><td>1.509975790977478</td><td>14.417464256286621</td><td>0.017594344913959503</td><td>76.37326</td><td>73.8746</td><td>2.9599552</td><td>2.472069</td><td>9.11027</td><td>7.7078996</td><td>2.386297</td><td>2.652031</td><td>-0.7566799</td><td>-0.6784592</td><td>-0.8693526</td><td>0.16737725</td><td>0</td><td>0.0</td><td>0.0</td><td>-0.7341999</td><td>0.031452116</td><td>1</td><td>8.432131</td><td>8.484991</td><td>8.431271</td><td>2</td><td>10.569688</td><td>9.168035</td><td>3.4831798</td><td>0.0</td><td>0.0</td><td>0.0</td><td>0.0</td><td>17213532.0</td><td>0.0</td><td>21581376.0</td><td>0.0</td><td>0.0009355</td><td>0.0</td><td>0.0</td><td>0</td><td>0.0</td><td>0.0</td><td>0.0</td><td>0.0</td><td>0.0</td><td>8.296355</td><td>-0.8139142</td><td>1</td><td>0.31</td><td>0.08903883</td><td>8366788.5</td><td>2403126.0</td><td>0.001064</td><td>4.8509126</td><td>167.24113</td><td>1</td><td>0.017685175</td><td>0</td><td>0.0</td><td>0.0</td><td>0.0</td><td>0.0</td><td>0.0</td><td>0.0</td></tr>\n",
       "<tr><td>108148</td><td>J084252.67+250413.4</td><td>587739154432327925</td><td>543475828961312768</td><td>1930</td><td>53347</td><td>69</td><td>130.71951293945312</td><td>25.07041358947754</td><td>0.01725689508020878</td><td>74.88937</td><td>46.896168</td><td>2.6601393</td><td>4.8619976</td><td>9.49496</td><td>7.850222</td><td>2.0035522</td><td>2.1970787</td><td>-1.51798</td><td>-0.37211114</td><td>-0.5378556</td><td>0.0</td><td>0</td><td>0.0</td><td>0.0</td><td>-0.46166897</td><td>-0.17450902</td><td>1</td><td>8.669878</td><td>8.638108</td><td>8.551262</td><td>1</td><td>6.7546554</td><td>5.220427</td><td>1.9833789</td><td>0.142</td><td>0.047023073</td><td>0.30646065</td><td>0.111409836</td><td>11714917.0</td><td>8372365.5</td><td>25282822.0</td><td>9191245.0</td><td>0.0009982</td><td>3.1119707</td><td>96.876945</td><td>2</td><td>0.017245412</td><td>0.0</td><td>0.0</td><td>8.120532</td><td>0.21887901</td><td>0.0</td><td>-1.3744283</td><td>2</td><td>0.0</td><td>nan</td><td>7318988.0</td><td>inf</td><td>0.001573</td><td>0.0</td><td>165.48338</td><td>0</td><td>0.0</td><td>0</td><td>0.0</td><td>0.0</td><td>0.0</td><td>0.0</td><td>0.0</td><td>0.0</td></tr>\n",
       "<tr><td>114144</td><td>J142835.88+254231.7</td><td>587739720299643039</td><td>0</td><td>2135</td><td>53827</td><td>384</td><td>217.14903259277344</td><td>25.708881378173828</td><td>0.013556248508393764</td><td>58.66506</td><td>68.81959</td><td>4.7861824</td><td>2.9947715</td><td>9.860129</td><td>8.145802</td><td>2.2044406</td><td>1.3601689</td><td>-1.93046</td><td>-0.76145977</td><td>-0.92720425</td><td>0.0</td><td>1</td><td>9.781658</td><td>0.53706294</td><td>-0.23452303</td><td>nan</td><td>0</td><td>8.959092</td><td>nan</td><td>8.652107</td><td>1</td><td>5.6086144</td><td>4.5711975</td><td>1.7367194</td><td>5.87</td><td>0.50690407</td><td>9.141515</td><td>1.5822269</td><td>298256740.0</td><td>40110496.0</td><td>464483550.0</td><td>80393496.0</td><td>0.00305</td><td>30.755505</td><td>181.54349</td><td>1</td><td>0.013529301</td><td>0.0</td><td>0.0</td><td>9.327001</td><td>0.16920851</td><td>0.0</td><td>-0.53312904</td><td>0</td><td>0.0</td><td>nan</td><td>0.0</td><td>nan</td><td>0.0</td><td>0.0</td><td>0.0</td><td>0</td><td>0.0</td><td>0</td><td>0.0</td><td>0.0</td><td>0.0</td><td>0.0</td><td>0.0</td><td>0.0</td></tr>\n",
       "<tr><td>112116</td><td>J125606.09+274041.1</td><td>587741602572468265</td><td>631018077881892864</td><td>2241</td><td>54169</td><td>236</td><td>194.02542114257812</td><td>27.67810821533203</td><td>0.016483258455991745</td><td>71.49022</td><td>45.924957</td><td>1.5673195</td><td>1.0840154</td><td>9.118738</td><td>8.22599</td><td>2.416731</td><td>2.652031</td><td>-0.1143399</td><td>-0.044671766</td><td>0.09825152</td><td>0.04721572</td><td>0</td><td>0.0</td><td>0.0</td><td>-0.642491</td><td>-0.12354768</td><td>1</td><td>8.500996</td><td>8.563938</td><td>8.433977</td><td>1</td><td>8.390707</td><td>7.8317876</td><td>2.9755042</td><td>1.15</td><td>0.14585426</td><td>1.260237</td><td>0.24755174</td><td>86523080.0</td><td>12025625.0</td><td>94817030.0</td><td>18625166.0</td><td>0.00203</td><td>10.160902</td><td>144.10826</td><td>1</td><td>0.016434908</td><td>0.0</td><td>0.0</td><td>8.870748</td><td>0.17395106</td><td>0.0</td><td>-0.2479909</td><td>0</td><td>0.0</td><td>nan</td><td>0.0</td><td>nan</td><td>0.0</td><td>0.0</td><td>0.0</td><td>0</td><td>0.0</td><td>0</td><td>0.0</td><td>0.0</td><td>0.0</td><td>0.0</td><td>0.0</td><td>0.0</td></tr>\n",
       "<tr><td>110080</td><td>J101837.31+031548.9</td><td>587728878729887889</td><td>161791499665670144</td><td>574</td><td>52355</td><td>5</td><td>154.6554718017578</td><td>3.2636070251464844</td><td>0.014438134618103504</td><td>62.52329</td><td>57.54589</td><td>2.204608</td><td>1.4298147</td><td>9.198826</td><td>8.227983</td><td>2.488064</td><td>2.652031</td><td>-0.5410599</td><td>-0.56568056</td><td>-0.5705168</td><td>0.17760769</td><td>0</td><td>0.0</td><td>0.0</td><td>-0.6259197</td><td>-0.03292957</td><td>1</td><td>8.514549</td><td>8.540243</td><td>8.459518</td><td>1</td><td>8.992734</td><td>7.7188797</td><td>2.9326077</td><td>0.848</td><td>0.12752506</td><td>0.99112064</td><td>0.21051726</td><td>48898436.0</td><td>8594593.0</td><td>57151240.0</td><td>12139110.0</td><td>0.001744</td><td>7.8530717</td><td>177.73357</td><td>1</td><td>0.014395237</td><td>172.10753</td><td>9.218826</td><td>8.64458</td><td>0.1774556</td><td>0.0</td><td>-0.5542459</td><td>1</td><td>1.03</td><td>0.21671158</td><td>18688924.0</td><td>3932142.0</td><td>0.001267</td><td>15.306939</td><td>130.76585</td><td>1</td><td>0.014351725</td><td>0</td><td>0.0</td><td>0.0</td><td>0.0</td><td>0.0</td><td>0.0</td><td>0.0</td></tr>\n",
       "<tr><td>113150</td><td>J135838.59+071259.4</td><td>587736525370949664</td><td>509139443815284736</td><td>1808</td><td>54176</td><td>423</td><td>209.66091918945312</td><td>7.216517448425293</td><td>0.014623249880969524</td><td>63.333813</td><td>79.891525</td><td>2.9130816</td><td>3.0269358</td><td>9.927597</td><td>8.395035</td><td>2.6196172</td><td>1.2395568</td><td>-0.17225991</td><td>0.15878625</td><td>-0.15110348</td><td>0.06725362</td><td>1</td><td>9.787768</td><td>0.3492647</td><td>-0.51731926</td><td>-0.3006665</td><td>1</td><td>8.61274</td><td>8.66067</td><td>8.668488</td><td>1</td><td>6.323377</td><td>4.859007</td><td>1.8460658</td><td>1.68</td><td>0.20499372</td><td>2.4178703</td><td>0.46752444</td><td>99384090.0</td><td>17453070.0</td><td>143034420.0</td><td>27657434.0</td><td>0.002363</td><td>10.853613</td><td>198.92638</td><td>1</td><td>0.014653207</td><td>228.88942</td><td>21.219425</td><td>8.841988</td><td>0.17330097</td><td>0.0</td><td>-1.085609</td><td>1</td><td>1.83</td><td>0.40387917</td><td>34064856.0</td><td>7518079.5</td><td>0.003281</td><td>10.716172</td><td>125.59148</td><td>1</td><td>0.014829875</td><td>0</td><td>0.0</td><td>0.0</td><td>0.0</td><td>0.0</td><td>0.0</td><td>0.0</td></tr>\n",
       "<tr><td>109139</td><td>J091639.78+071559.0</td><td>587734691425550580</td><td>336307482307592192</td><td>1194</td><td>52703</td><td>585</td><td>139.16580200195312</td><td>7.266376972198486</td><td>0.018754992634058</td><td>81.482704</td><td>59.279804</td><td>2.5127826</td><td>3.8885984</td><td>9.591507</td><td>8.025435</td><td>2.2165</td><td>2.0439148</td><td>-0.5239899</td><td>0.22187464</td><td>-0.055817828</td><td>0.07422059</td><td>1</td><td>9.646275</td><td>0.33277312</td><td>-0.4148184</td><td>-0.5610673</td><td>1</td><td>8.721891</td><td>8.776799</td><td>8.579617</td><td>1</td><td>4.5026197</td><td>3.2976437</td><td>1.2528625</td><td>0.832</td><td>0.14649571</td><td>1.3199204</td><td>0.30530694</td><td>81138230.0</td><td>22664782.0</td><td>128721160.0</td><td>29774114.0</td><td>0.002087</td><td>6.3753834</td><td>181.27544</td><td>1</td><td>0.01874125</td><td>185.54552</td><td>51.29386</td><td>8.627853</td><td>0.18185852</td><td>0.0</td><td>-0.96365327</td><td>1</td><td>1.01</td><td>0.23969762</td><td>30993562.0</td><td>7355527.5</td><td>0.002314</td><td>7.82712</td><td>144.16574</td><td>1</td><td>0.0187155</td><td>0</td><td>0.0</td><td>0.0</td><td>0.0</td><td>0.0</td><td>0.0</td><td>0.0</td></tr>\n",
       "</table>"
      ],
      "text/plain": [
       "<Table length=532>\n",
       "  ID           SDSS              OBJID        ...  WCO_APEX   ZCO_APEX \n",
       "int32        bytes19             int64        ...  float32    float32  \n",
       "------ ------------------- ------------------ ... --------- -----------\n",
       " 11956 J000820.76+150921.6 587730774426517654 ... 242.66719  0.03949652\n",
       " 12025 J001934.54+161215.0 588290882176155793 ...       0.0         0.0\n",
       " 12002 J002504.00+145815.2 588290880566132751 ...       0.0         0.0\n",
       " 11989 J002558.89+135545.8 587730772817739967 ...       0.0         0.0\n",
       " 27167 J003921.66+142811.5 587724232100741195 ...       0.0         0.0\n",
       "  3189 J004023.48+143649.4 587724198275645522 ...       0.0         0.0\n",
       "  3261 J005532.61+154632.9 587724199887831062 ...  55.05736 0.037466083\n",
       "  3318 J010238.29+151006.6 587724233176907902 ...       0.0         0.0\n",
       "  3439 J010905.96+144520.8 587724198815531168 ...       0.0         0.0\n",
       "  3465 J011221.82+150039.0 587724233177956541 ...       0.0         0.0\n",
       "   ...                 ...                ... ...       ...         ...\n",
       "122006 J225258.56+010833.8 587731187807158563 ...       0.0         0.0\n",
       "114141 J140043.62+315338.0 587739380447641741 ...       0.0         0.0\n",
       "108147 J081523.41+284407.2 588297865247588554 ...       0.0         0.0\n",
       "124028 J000602.41+142502.8 587727221414166687 ...       0.0         0.0\n",
       "108148 J084252.67+250413.4 587739154432327925 ...       0.0         0.0\n",
       "114144 J142835.88+254231.7 587739720299643039 ...       0.0         0.0\n",
       "112116 J125606.09+274041.1 587741602572468265 ...       0.0         0.0\n",
       "110080 J101837.31+031548.9 587728878729887889 ...       0.0         0.0\n",
       "113150 J135838.59+071259.4 587736525370949664 ...       0.0         0.0\n",
       "109139 J091639.78+071559.0 587734691425550580 ...       0.0         0.0"
      ]
     },
     "execution_count": 15,
     "metadata": {},
     "output_type": "execute_result"
    }
   ],
   "source": [
    "t = tab.Table.read(\"http://www.star.ucl.ac.uk/xCOLDGASS/data/xCOLDGASS_PubCat.fits\")\n",
    "t"
   ]
  },
  {
   "cell_type": "code",
   "execution_count": 13,
   "metadata": {},
   "outputs": [],
   "source": [
    "import pandas as pd"
   ]
  },
  {
   "cell_type": "code",
   "execution_count": 30,
   "metadata": {},
   "outputs": [
    {
     "data": {
      "text/plain": [
       "0    1.0\n",
       "1    3.0\n",
       "2    5.0\n",
       "3    NaN\n",
       "4    6.0\n",
       "5    8.0\n",
       "dtype: float64"
      ]
     },
     "execution_count": 30,
     "metadata": {},
     "output_type": "execute_result"
    }
   ],
   "source": [
    "s = pd.Series([1,3,5, np.nan, 6, 8])\n",
    "s"
   ]
  },
  {
   "cell_type": "code",
   "execution_count": 38,
   "metadata": {},
   "outputs": [
    {
     "name": "stdout",
     "output_type": "stream",
     "text": [
      "One      0.629460\n",
      "Two     -0.427684\n",
      "Three   -0.366905\n",
      "Name: A, dtype: float64\n",
      "              A         B         C         D\n",
      "One    0.629460 -0.551041 -1.580727  0.491408\n",
      "Two   -0.427684 -0.594342 -2.453873  1.985036\n",
      "Three -0.366905  0.929252 -0.324355 -1.330615\n"
     ]
    },
    {
     "data": {
      "text/html": [
       "<div>\n",
       "<style scoped>\n",
       "    .dataframe tbody tr th:only-of-type {\n",
       "        vertical-align: middle;\n",
       "    }\n",
       "\n",
       "    .dataframe tbody tr th {\n",
       "        vertical-align: top;\n",
       "    }\n",
       "\n",
       "    .dataframe thead th {\n",
       "        text-align: right;\n",
       "    }\n",
       "</style>\n",
       "<table border=\"1\" class=\"dataframe\">\n",
       "  <thead>\n",
       "    <tr style=\"text-align: right;\">\n",
       "      <th></th>\n",
       "      <th>A</th>\n",
       "      <th>B</th>\n",
       "      <th>C</th>\n",
       "      <th>D</th>\n",
       "    </tr>\n",
       "  </thead>\n",
       "  <tbody>\n",
       "    <tr>\n",
       "      <th>One</th>\n",
       "      <td>0.629460</td>\n",
       "      <td>-0.551041</td>\n",
       "      <td>-1.580727</td>\n",
       "      <td>0.491408</td>\n",
       "    </tr>\n",
       "    <tr>\n",
       "      <th>Two</th>\n",
       "      <td>-0.427684</td>\n",
       "      <td>-0.594342</td>\n",
       "      <td>-2.453873</td>\n",
       "      <td>1.985036</td>\n",
       "    </tr>\n",
       "    <tr>\n",
       "      <th>Three</th>\n",
       "      <td>-0.366905</td>\n",
       "      <td>0.929252</td>\n",
       "      <td>-0.324355</td>\n",
       "      <td>-1.330615</td>\n",
       "    </tr>\n",
       "  </tbody>\n",
       "</table>\n",
       "</div>"
      ],
      "text/plain": [
       "              A         B         C         D\n",
       "One    0.629460 -0.551041 -1.580727  0.491408\n",
       "Two   -0.427684 -0.594342 -2.453873  1.985036\n",
       "Three -0.366905  0.929252 -0.324355 -1.330615"
      ]
     },
     "execution_count": 38,
     "metadata": {},
     "output_type": "execute_result"
    }
   ],
   "source": [
    "df = pd.DataFrame(np.random.randn(3, 4), index = ['One', 'Two', 'Three'], columns = ['A','B','C','D'])\n",
    "print(df['A'])\n",
    "print(df)\n",
    "df"
   ]
  },
  {
   "cell_type": "code",
   "execution_count": 28,
   "metadata": {},
   "outputs": [
    {
     "data": {
      "text/html": [
       "<div>\n",
       "<style scoped>\n",
       "    .dataframe tbody tr th:only-of-type {\n",
       "        vertical-align: middle;\n",
       "    }\n",
       "\n",
       "    .dataframe tbody tr th {\n",
       "        vertical-align: top;\n",
       "    }\n",
       "\n",
       "    .dataframe thead th {\n",
       "        text-align: right;\n",
       "    }\n",
       "</style>\n",
       "<table border=\"1\" class=\"dataframe\">\n",
       "  <thead>\n",
       "    <tr style=\"text-align: right;\">\n",
       "      <th></th>\n",
       "      <th>ra</th>\n",
       "      <th>dec</th>\n",
       "      <th>flag</th>\n",
       "    </tr>\n",
       "  </thead>\n",
       "  <tbody>\n",
       "    <tr>\n",
       "      <th>vega</th>\n",
       "      <td>6</td>\n",
       "      <td>19</td>\n",
       "      <td>0</td>\n",
       "    </tr>\n",
       "    <tr>\n",
       "      <th>betelgeuse</th>\n",
       "      <td>34</td>\n",
       "      <td>4</td>\n",
       "      <td>1</td>\n",
       "    </tr>\n",
       "    <tr>\n",
       "      <th>rigel</th>\n",
       "      <td>5</td>\n",
       "      <td>65</td>\n",
       "      <td>0</td>\n",
       "    </tr>\n",
       "  </tbody>\n",
       "</table>\n",
       "</div>"
      ],
      "text/plain": [
       "            ra  dec  flag\n",
       "vega         6   19     0\n",
       "betelgeuse  34    4     1\n",
       "rigel        5   65     0"
      ]
     },
     "execution_count": 28,
     "metadata": {},
     "output_type": "execute_result"
    }
   ],
   "source": [
    "df2 = pd.DataFrame({'ra':ras, 'dec':decs, 'flag':flags}, index = stars)\n",
    "df2"
   ]
  },
  {
   "cell_type": "code",
   "execution_count": 41,
   "metadata": {},
   "outputs": [
    {
     "name": "stdout",
     "output_type": "stream",
     "text": [
      "Index(['ra', 'dec', 'flag'], dtype='object')\n"
     ]
    },
    {
     "data": {
      "text/html": [
       "<div>\n",
       "<style scoped>\n",
       "    .dataframe tbody tr th:only-of-type {\n",
       "        vertical-align: middle;\n",
       "    }\n",
       "\n",
       "    .dataframe tbody tr th {\n",
       "        vertical-align: top;\n",
       "    }\n",
       "\n",
       "    .dataframe thead th {\n",
       "        text-align: right;\n",
       "    }\n",
       "</style>\n",
       "<table border=\"1\" class=\"dataframe\">\n",
       "  <thead>\n",
       "    <tr style=\"text-align: right;\">\n",
       "      <th></th>\n",
       "      <th>ra</th>\n",
       "      <th>dec</th>\n",
       "      <th>flag</th>\n",
       "    </tr>\n",
       "  </thead>\n",
       "  <tbody>\n",
       "    <tr>\n",
       "      <th>rigel</th>\n",
       "      <td>5</td>\n",
       "      <td>65</td>\n",
       "      <td>0</td>\n",
       "    </tr>\n",
       "  </tbody>\n",
       "</table>\n",
       "</div>"
      ],
      "text/plain": [
       "       ra  dec  flag\n",
       "rigel   5   65     0"
      ]
     },
     "execution_count": 41,
     "metadata": {},
     "output_type": "execute_result"
    }
   ],
   "source": [
    "print(df2.columns)\n",
    "df2.tail(1)"
   ]
  },
  {
   "cell_type": "code",
   "execution_count": 48,
   "metadata": {},
   "outputs": [
    {
     "data": {
      "text/html": [
       "<div>\n",
       "<style scoped>\n",
       "    .dataframe tbody tr th:only-of-type {\n",
       "        vertical-align: middle;\n",
       "    }\n",
       "\n",
       "    .dataframe tbody tr th {\n",
       "        vertical-align: top;\n",
       "    }\n",
       "\n",
       "    .dataframe thead th {\n",
       "        text-align: right;\n",
       "    }\n",
       "</style>\n",
       "<table border=\"1\" class=\"dataframe\">\n",
       "  <thead>\n",
       "    <tr style=\"text-align: right;\">\n",
       "      <th></th>\n",
       "      <th>ra</th>\n",
       "      <th>dec</th>\n",
       "      <th>flag</th>\n",
       "    </tr>\n",
       "  </thead>\n",
       "  <tbody>\n",
       "    <tr>\n",
       "      <th>count</th>\n",
       "      <td>3.000000</td>\n",
       "      <td>3.000000</td>\n",
       "      <td>3.000000</td>\n",
       "    </tr>\n",
       "    <tr>\n",
       "      <th>mean</th>\n",
       "      <td>15.000000</td>\n",
       "      <td>29.333333</td>\n",
       "      <td>0.333333</td>\n",
       "    </tr>\n",
       "    <tr>\n",
       "      <th>std</th>\n",
       "      <td>16.462078</td>\n",
       "      <td>31.785741</td>\n",
       "      <td>0.577350</td>\n",
       "    </tr>\n",
       "    <tr>\n",
       "      <th>min</th>\n",
       "      <td>5.000000</td>\n",
       "      <td>4.000000</td>\n",
       "      <td>0.000000</td>\n",
       "    </tr>\n",
       "    <tr>\n",
       "      <th>25%</th>\n",
       "      <td>5.500000</td>\n",
       "      <td>11.500000</td>\n",
       "      <td>0.000000</td>\n",
       "    </tr>\n",
       "    <tr>\n",
       "      <th>50%</th>\n",
       "      <td>6.000000</td>\n",
       "      <td>19.000000</td>\n",
       "      <td>0.000000</td>\n",
       "    </tr>\n",
       "    <tr>\n",
       "      <th>75%</th>\n",
       "      <td>20.000000</td>\n",
       "      <td>42.000000</td>\n",
       "      <td>0.500000</td>\n",
       "    </tr>\n",
       "    <tr>\n",
       "      <th>max</th>\n",
       "      <td>34.000000</td>\n",
       "      <td>65.000000</td>\n",
       "      <td>1.000000</td>\n",
       "    </tr>\n",
       "  </tbody>\n",
       "</table>\n",
       "</div>"
      ],
      "text/plain": [
       "              ra        dec      flag\n",
       "count   3.000000   3.000000  3.000000\n",
       "mean   15.000000  29.333333  0.333333\n",
       "std    16.462078  31.785741  0.577350\n",
       "min     5.000000   4.000000  0.000000\n",
       "25%     5.500000  11.500000  0.000000\n",
       "50%     6.000000  19.000000  0.000000\n",
       "75%    20.000000  42.000000  0.500000\n",
       "max    34.000000  65.000000  1.000000"
      ]
     },
     "execution_count": 48,
     "metadata": {},
     "output_type": "execute_result"
    }
   ],
   "source": [
    "df2.describe()"
   ]
  },
  {
   "cell_type": "code",
   "execution_count": 43,
   "metadata": {},
   "outputs": [
    {
     "data": {
      "text/plain": [
       "array([[ 0.62945972, -0.55104074, -1.58072661,  0.49140785],\n",
       "       [-0.42768399, -0.59434151, -2.45387252,  1.9850363 ],\n",
       "       [-0.36690479,  0.92925151, -0.32435533, -1.3306155 ]])"
      ]
     },
     "execution_count": 43,
     "metadata": {},
     "output_type": "execute_result"
    }
   ],
   "source": [
    "df.to_numpy()"
   ]
  },
  {
   "cell_type": "code",
   "execution_count": 49,
   "metadata": {},
   "outputs": [
    {
     "data": {
      "text/html": [
       "<div>\n",
       "<style scoped>\n",
       "    .dataframe tbody tr th:only-of-type {\n",
       "        vertical-align: middle;\n",
       "    }\n",
       "\n",
       "    .dataframe tbody tr th {\n",
       "        vertical-align: top;\n",
       "    }\n",
       "\n",
       "    .dataframe thead th {\n",
       "        text-align: right;\n",
       "    }\n",
       "</style>\n",
       "<table border=\"1\" class=\"dataframe\">\n",
       "  <thead>\n",
       "    <tr style=\"text-align: right;\">\n",
       "      <th></th>\n",
       "      <th>ra</th>\n",
       "      <th>dec</th>\n",
       "      <th>flag</th>\n",
       "    </tr>\n",
       "  </thead>\n",
       "  <tbody>\n",
       "    <tr>\n",
       "      <th>betelgeuse</th>\n",
       "      <td>34</td>\n",
       "      <td>4</td>\n",
       "      <td>1</td>\n",
       "    </tr>\n",
       "    <tr>\n",
       "      <th>vega</th>\n",
       "      <td>6</td>\n",
       "      <td>19</td>\n",
       "      <td>0</td>\n",
       "    </tr>\n",
       "    <tr>\n",
       "      <th>rigel</th>\n",
       "      <td>5</td>\n",
       "      <td>65</td>\n",
       "      <td>0</td>\n",
       "    </tr>\n",
       "  </tbody>\n",
       "</table>\n",
       "</div>"
      ],
      "text/plain": [
       "            ra  dec  flag\n",
       "betelgeuse  34    4     1\n",
       "vega         6   19     0\n",
       "rigel        5   65     0"
      ]
     },
     "execution_count": 49,
     "metadata": {},
     "output_type": "execute_result"
    }
   ],
   "source": [
    "df2.sort_values(by='dec')"
   ]
  },
  {
   "cell_type": "code",
   "execution_count": 50,
   "metadata": {},
   "outputs": [
    {
     "data": {
      "text/plain": [
       "6"
      ]
     },
     "execution_count": 50,
     "metadata": {},
     "output_type": "execute_result"
    }
   ],
   "source": [
    "df2.loc['vega','ra']"
   ]
  },
  {
   "cell_type": "code",
   "execution_count": 62,
   "metadata": {},
   "outputs": [
    {
     "data": {
      "text/html": [
       "<div>\n",
       "<style scoped>\n",
       "    .dataframe tbody tr th:only-of-type {\n",
       "        vertical-align: middle;\n",
       "    }\n",
       "\n",
       "    .dataframe tbody tr th {\n",
       "        vertical-align: top;\n",
       "    }\n",
       "\n",
       "    .dataframe thead th {\n",
       "        text-align: right;\n",
       "    }\n",
       "</style>\n",
       "<table border=\"1\" class=\"dataframe\">\n",
       "  <thead>\n",
       "    <tr style=\"text-align: right;\">\n",
       "      <th></th>\n",
       "      <th>ra</th>\n",
       "      <th>dec</th>\n",
       "    </tr>\n",
       "  </thead>\n",
       "  <tbody>\n",
       "    <tr>\n",
       "      <th>vega</th>\n",
       "      <td>6</td>\n",
       "      <td>19</td>\n",
       "    </tr>\n",
       "    <tr>\n",
       "      <th>betelgeuse</th>\n",
       "      <td>34</td>\n",
       "      <td>4</td>\n",
       "    </tr>\n",
       "    <tr>\n",
       "      <th>rigel</th>\n",
       "      <td>5</td>\n",
       "      <td>65</td>\n",
       "    </tr>\n",
       "  </tbody>\n",
       "</table>\n",
       "</div>"
      ],
      "text/plain": [
       "            ra  dec\n",
       "vega         6   19\n",
       "betelgeuse  34    4\n",
       "rigel        5   65"
      ]
     },
     "execution_count": 62,
     "metadata": {},
     "output_type": "execute_result"
    }
   ],
   "source": [
    "df2.loc[:,['ra', 'dec']]"
   ]
  },
  {
   "cell_type": "code",
   "execution_count": 52,
   "metadata": {},
   "outputs": [
    {
     "data": {
      "text/plain": [
       "6"
      ]
     },
     "execution_count": 52,
     "metadata": {},
     "output_type": "execute_result"
    }
   ],
   "source": [
    "df2.iloc[0,0]"
   ]
  },
  {
   "cell_type": "code",
   "execution_count": 58,
   "metadata": {},
   "outputs": [
    {
     "data": {
      "text/html": [
       "<div>\n",
       "<style scoped>\n",
       "    .dataframe tbody tr th:only-of-type {\n",
       "        vertical-align: middle;\n",
       "    }\n",
       "\n",
       "    .dataframe tbody tr th {\n",
       "        vertical-align: top;\n",
       "    }\n",
       "\n",
       "    .dataframe thead th {\n",
       "        text-align: right;\n",
       "    }\n",
       "</style>\n",
       "<table border=\"1\" class=\"dataframe\">\n",
       "  <thead>\n",
       "    <tr style=\"text-align: right;\">\n",
       "      <th></th>\n",
       "      <th>ra</th>\n",
       "      <th>dec</th>\n",
       "    </tr>\n",
       "  </thead>\n",
       "  <tbody>\n",
       "    <tr>\n",
       "      <th>vega</th>\n",
       "      <td>6</td>\n",
       "      <td>19</td>\n",
       "    </tr>\n",
       "    <tr>\n",
       "      <th>betelgeuse</th>\n",
       "      <td>34</td>\n",
       "      <td>4</td>\n",
       "    </tr>\n",
       "  </tbody>\n",
       "</table>\n",
       "</div>"
      ],
      "text/plain": [
       "            ra  dec\n",
       "vega         6   19\n",
       "betelgeuse  34    4"
      ]
     },
     "execution_count": 58,
     "metadata": {},
     "output_type": "execute_result"
    }
   ],
   "source": [
    "df2.iloc[0:2,0:2]"
   ]
  },
  {
   "cell_type": "code",
   "execution_count": 63,
   "metadata": {},
   "outputs": [],
   "source": [
    " "
   ]
  },
  {
   "cell_type": "code",
   "execution_count": null,
   "metadata": {},
   "outputs": [],
   "source": []
  }
 ],
 "metadata": {
  "kernelspec": {
   "display_name": "Python 3",
   "language": "python",
   "name": "python3"
  },
  "language_info": {
   "codemirror_mode": {
    "name": "ipython",
    "version": 3
   },
   "file_extension": ".py",
   "mimetype": "text/x-python",
   "name": "python",
   "nbconvert_exporter": "python",
   "pygments_lexer": "ipython3",
   "version": "3.7.3"
  }
 },
 "nbformat": 4,
 "nbformat_minor": 4
}
